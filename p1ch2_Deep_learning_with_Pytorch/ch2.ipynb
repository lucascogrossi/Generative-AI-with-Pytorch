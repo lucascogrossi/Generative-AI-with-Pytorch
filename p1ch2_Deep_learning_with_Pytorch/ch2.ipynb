{
 "cells": [
  {
   "cell_type": "markdown",
   "metadata": {},
   "source": [
    "2.1.1 Creating PyTorch tensors"
   ]
  },
  {
   "cell_type": "code",
   "execution_count": 2,
   "metadata": {},
   "outputs": [],
   "source": [
    "# heights of the 46 U.S. presidents in chronological order (cm)\n",
    "heights = [189, 170, 189, 163, 183, 171, 185,\n",
    "           168, 173, 183, 173, 173, 175, 178,\n",
    "           183, 193, 178, 173, 174, 183, 183,\n",
    "           180, 168, 180, 170, 178, 182, 180,\n",
    "           183, 178, 182, 188, 175, 179, 183,\n",
    "           193, 182, 183, 177, 185, 188, 188,\n",
    "           182, 185, 191, 183]"
   ]
  },
  {
   "cell_type": "code",
   "execution_count": 3,
   "metadata": {},
   "outputs": [],
   "source": [
    "# convert the python list to a Pytorch tensor\n",
    "import torch\n",
    "\n",
    "heights_tensor = torch.tensor(heights, dtype=torch.float64)"
   ]
  },
  {
   "cell_type": "code",
   "execution_count": 4,
   "metadata": {},
   "outputs": [
    {
     "name": "stdout",
     "output_type": "stream",
     "text": [
      "tensor([1, 2, 3], dtype=torch.int32)\n",
      "tensor([1, 2, 3], dtype=torch.int32)\n"
     ]
    }
   ],
   "source": [
    "# two ways of specifying tensor types\n",
    "t1 = torch.IntTensor([1, 2, 3])\n",
    "t2 = torch.tensor([1, 2, 3], dtype=torch.int)\n",
    "\n",
    "print(t1)\n",
    "print(t2)"
   ]
  },
  {
   "cell_type": "code",
   "execution_count": 5,
   "metadata": {},
   "outputs": [
    {
     "data": {
      "text/plain": [
       "(tensor([ 5.,  8., 10.], dtype=torch.float64),\n",
       " tensor([ 5.,  8., 10.], dtype=torch.float64))"
      ]
     },
     "execution_count": 5,
     "metadata": {},
     "output_type": "execute_result"
    }
   ],
   "source": [
    "\"\"\"\n",
    "Exercise 2.1\n",
    "Use two different methods to convert the Python list [5, 8, 10] into a PyTorch tensor\n",
    "with 64-bit floating-point numbers in it. Consult the third row in table 2.1 for this question.\n",
    "\"\"\"\n",
    "\n",
    "tensor1 = torch.tensor([5, 8, 10], dtype=torch.float64)\n",
    "tensor2 = torch.DoubleTensor([5, 8, 10])\n",
    "\n",
    "tensor1, tensor2"
   ]
  },
  {
   "cell_type": "code",
   "execution_count": 6,
   "metadata": {},
   "outputs": [
    {
     "data": {
      "text/plain": [
       "tensor([[0., 0., 0.],\n",
       "        [0., 0., 0.]])"
      ]
     },
     "execution_count": 6,
     "metadata": {},
     "output_type": "execute_result"
    }
   ],
   "source": [
    "# create a tensor of zeros with two rows and three columns (default float32)\n",
    "tensor1 = torch.zeros(2, 3)\n",
    "\n",
    "tensor1"
   ]
  },
  {
   "cell_type": "code",
   "execution_count": 7,
   "metadata": {},
   "outputs": [
    {
     "data": {
      "text/plain": [
       "tensor([[[1., 1., 1., 1., 1.],\n",
       "         [1., 1., 1., 1., 1.],\n",
       "         [1., 1., 1., 1., 1.],\n",
       "         [1., 1., 1., 1., 1.]]])"
      ]
     },
     "execution_count": 7,
     "metadata": {},
     "output_type": "execute_result"
    }
   ],
   "source": [
    "# create a 3D tensor with values 1 everywhere\n",
    "tensor2 = torch.ones(1, 4, 5)\n",
    "\n",
    "tensor2"
   ]
  },
  {
   "cell_type": "code",
   "execution_count": 8,
   "metadata": {},
   "outputs": [
    {
     "data": {
      "text/plain": [
       "tensor([[[0., 0., 0., 0.],\n",
       "         [0., 0., 0., 0.],\n",
       "         [0., 0., 0., 0.]],\n",
       "\n",
       "        [[0., 0., 0., 0.],\n",
       "         [0., 0., 0., 0.],\n",
       "         [0., 0., 0., 0.]]])"
      ]
     },
     "execution_count": 8,
     "metadata": {},
     "output_type": "execute_result"
    }
   ],
   "source": [
    "\"\"\"\n",
    "Exercise 2.2\n",
    "Create a 3D PyTorch tensor with values 0 in it. Make the shape of the tensor (2, 3, 4)\n",
    "\"\"\"\n",
    "\n",
    "tensor = torch.zeros(2, 3 ,4)\n",
    "\n",
    "tensor"
   ]
  },
  {
   "cell_type": "code",
   "execution_count": 9,
   "metadata": {},
   "outputs": [
    {
     "name": "stdout",
     "output_type": "stream",
     "text": [
      "[0 1 2 3 4 5 6 7 8 9]\n",
      "tensor([0, 1, 2, 3, 4, 5, 6, 7, 8, 9], dtype=torch.int32)\n"
     ]
    }
   ],
   "source": [
    "# we can also easily convert np arrays to tensor\n",
    "import numpy as np\n",
    "\n",
    "np_arr = np.array(range(10)) \n",
    "print(np_arr)\n",
    "\n",
    "pt_tensor = torch.tensor(np_arr, dtype=torch.int)\n",
    "print(pt_tensor)"
   ]
  },
  {
   "cell_type": "markdown",
   "metadata": {},
   "source": [
    "2.1.2 Index and slice PyTorch tensors"
   ]
  },
  {
   "cell_type": "code",
   "execution_count": 10,
   "metadata": {},
   "outputs": [
    {
     "data": {
      "text/plain": [
       "tensor(189., dtype=torch.float64)"
      ]
     },
     "execution_count": 10,
     "metadata": {},
     "output_type": "execute_result"
    }
   ],
   "source": [
    "# height of the third president\n",
    "height = heights_tensor[2]\n",
    "\n",
    "height"
   ]
  },
  {
   "cell_type": "code",
   "execution_count": 11,
   "metadata": {},
   "outputs": [
    {
     "data": {
      "text/plain": [
       "tensor(191., dtype=torch.float64)"
      ]
     },
     "execution_count": 11,
     "metadata": {},
     "output_type": "execute_result"
    }
   ],
   "source": [
    "# we can use negative indexing to count from the back of the tensor\n",
    "height = heights_tensor[-2]\n",
    "\n",
    "height"
   ]
  },
  {
   "cell_type": "code",
   "execution_count": 12,
   "metadata": {},
   "outputs": [
    {
     "data": {
      "text/plain": [
       "tensor([188., 182., 185., 191., 183.], dtype=torch.float64)"
      ]
     },
     "execution_count": 12,
     "metadata": {},
     "output_type": "execute_result"
    }
   ],
   "source": [
    "# tensor slicing\n",
    "five_heights = heights_tensor[-5:]\n",
    "\n",
    "five_heights"
   ]
  },
  {
   "cell_type": "code",
   "execution_count": 13,
   "metadata": {},
   "outputs": [
    {
     "data": {
      "text/plain": [
       "tensor([189., 170., 189., 163., 183.], dtype=torch.float64)"
      ]
     },
     "execution_count": 13,
     "metadata": {},
     "output_type": "execute_result"
    }
   ],
   "source": [
    "\"\"\"\"\n",
    "Exercise 2.3\n",
    "Use slicing to obtain the heights of the first five U.S. presidents in the tensor\n",
    "heights_tensor.\n",
    "\"\"\"\n",
    "first_five = heights_tensor[:5]\n",
    "\n",
    "first_five\n"
   ]
  },
  {
   "cell_type": "markdown",
   "metadata": {},
   "source": [
    "2.1.3 PyTorch tensor shapes"
   ]
  },
  {
   "cell_type": "code",
   "execution_count": 14,
   "metadata": {},
   "outputs": [
    {
     "name": "stdout",
     "output_type": "stream",
     "text": [
      "torch.Size([46])\n"
     ]
    }
   ],
   "source": [
    "# its a 1D tensor with 46 values\n",
    "print(heights_tensor.shape)"
   ]
  },
  {
   "cell_type": "code",
   "execution_count": 15,
   "metadata": {},
   "outputs": [
    {
     "data": {
      "text/plain": [
       "tensor([6.2008, 5.5774, 6.2008, 5.3478, 6.0039, 5.6102, 6.0696, 5.5118, 5.6759,\n",
       "        6.0039, 5.6759, 5.6759, 5.7415, 5.8399, 6.0039, 6.3320, 5.8399, 5.6759,\n",
       "        5.7087, 6.0039, 6.0039, 5.9055, 5.5118, 5.9055, 5.5774, 5.8399, 5.9711,\n",
       "        5.9055, 6.0039, 5.8399, 5.9711, 6.1680, 5.7415, 5.8727, 6.0039, 6.3320,\n",
       "        5.9711, 6.0039, 5.8071, 6.0696, 6.1680, 6.1680, 5.9711, 6.0696, 6.2664,\n",
       "        6.0039], dtype=torch.float64)"
      ]
     },
     "execution_count": 15,
     "metadata": {},
     "output_type": "execute_result"
    }
   ],
   "source": [
    "# convert from cm to ft\n",
    "heights_in_feet = heights_tensor / 30.48\n",
    "\n",
    "heights_in_feet"
   ]
  },
  {
   "cell_type": "code",
   "execution_count": 16,
   "metadata": {},
   "outputs": [
    {
     "data": {
      "text/plain": [
       "torch.Size([92])"
      ]
     },
     "execution_count": 16,
     "metadata": {},
     "output_type": "execute_result"
    }
   ],
   "source": [
    "# we can use torch.cat to concatenate two tensors\n",
    "# dim=0 means we concatenate them along the first dimension\n",
    "# we get a 1D tensor with 92 values\n",
    "heights_2_measures = torch.cat([heights_tensor, heights_in_feet], dim=0)\n",
    "\n",
    "heights_2_measures.shape"
   ]
  },
  {
   "cell_type": "code",
   "execution_count": 17,
   "metadata": {},
   "outputs": [
    {
     "data": {
      "text/plain": [
       "(tensor([[189.0000, 170.0000, 189.0000, 163.0000, 183.0000, 171.0000, 185.0000,\n",
       "          168.0000, 173.0000, 183.0000, 173.0000, 173.0000, 175.0000, 178.0000,\n",
       "          183.0000, 193.0000, 178.0000, 173.0000, 174.0000, 183.0000, 183.0000,\n",
       "          180.0000, 168.0000, 180.0000, 170.0000, 178.0000, 182.0000, 180.0000,\n",
       "          183.0000, 178.0000, 182.0000, 188.0000, 175.0000, 179.0000, 183.0000,\n",
       "          193.0000, 182.0000, 183.0000, 177.0000, 185.0000, 188.0000, 188.0000,\n",
       "          182.0000, 185.0000, 191.0000, 183.0000],\n",
       "         [  6.2008,   5.5774,   6.2008,   5.3478,   6.0039,   5.6102,   6.0696,\n",
       "            5.5118,   5.6759,   6.0039,   5.6759,   5.6759,   5.7415,   5.8399,\n",
       "            6.0039,   6.3320,   5.8399,   5.6759,   5.7087,   6.0039,   6.0039,\n",
       "            5.9055,   5.5118,   5.9055,   5.5774,   5.8399,   5.9711,   5.9055,\n",
       "            6.0039,   5.8399,   5.9711,   6.1680,   5.7415,   5.8727,   6.0039,\n",
       "            6.3320,   5.9711,   6.0039,   5.8071,   6.0696,   6.1680,   6.1680,\n",
       "            5.9711,   6.0696,   6.2664,   6.0039]], dtype=torch.float64),\n",
       " torch.Size([2, 46]))"
      ]
     },
     "execution_count": 17,
     "metadata": {},
     "output_type": "execute_result"
    }
   ],
   "source": [
    "# reshape it into a 2D tensor with two rows and 46 columns\n",
    "# first row in cm and second row in ft\n",
    "heights_reshaped = heights_2_measures.reshape(2, 46)\n",
    "\n",
    "heights_reshaped, heights_reshaped.shape"
   ]
  },
  {
   "cell_type": "code",
   "execution_count": 18,
   "metadata": {},
   "outputs": [
    {
     "name": "stdout",
     "output_type": "stream",
     "text": [
      "tensor(6.2664, dtype=torch.float64)\n"
     ]
    }
   ],
   "source": [
    "# we can index and slice multidimensional tensors\n",
    "print(heights_reshaped[1,-2])"
   ]
  },
  {
   "cell_type": "code",
   "execution_count": 19,
   "metadata": {},
   "outputs": [
    {
     "data": {
      "text/plain": [
       "tensor(183., dtype=torch.float64)"
      ]
     },
     "execution_count": 19,
     "metadata": {},
     "output_type": "execute_result"
    }
   ],
   "source": [
    "\"\"\"\" \n",
    "Exercise 2.4\n",
    "Use indexing to obtain the height of Joe Biden in the tensor heights_reshaped in\n",
    "centimeters\n",
    "\"\"\"\n",
    "\n",
    "height = heights_reshaped[0, -1]\n",
    "\n",
    "height"
   ]
  },
  {
   "cell_type": "markdown",
   "metadata": {},
   "source": [
    "2.1.4 Mathematical operations on PyTorch tensors"
   ]
  },
  {
   "cell_type": "code",
   "execution_count": null,
   "metadata": {},
   "outputs": [
    {
     "data": {
      "text/plain": [
       "tensor(182., dtype=torch.float64)"
      ]
     },
     "execution_count": 23,
     "metadata": {},
     "output_type": "execute_result"
    }
   ],
   "source": [
    "# median height\n",
    "torch.median(heights_reshaped[0,:])"
   ]
  },
  {
   "cell_type": "code",
   "execution_count": 25,
   "metadata": {},
   "outputs": [
    {
     "data": {
      "text/plain": [
       "tensor([180.0652,   5.9077], dtype=torch.float64)"
      ]
     },
     "execution_count": 25,
     "metadata": {},
     "output_type": "execute_result"
    }
   ],
   "source": [
    "# average height in both rows (dim=1)\n",
    "torch.mean(heights_reshaped,dim=1)"
   ]
  },
  {
   "cell_type": "code",
   "execution_count": 27,
   "metadata": {},
   "outputs": [
    {
     "data": {
      "text/plain": [
       "(tensor([193.0000,   6.3320], dtype=torch.float64), tensor([15, 15]))"
      ]
     },
     "execution_count": 27,
     "metadata": {},
     "output_type": "execute_result"
    }
   ],
   "source": [
    "# tallest president\n",
    "# torch.max returns two tensors\n",
    "values, indices = torch.max(heights_reshaped, dim=1)\n",
    "\n",
    "values, indices"
   ]
  },
  {
   "cell_type": "code",
   "execution_count": 28,
   "metadata": {},
   "outputs": [
    {
     "data": {
      "text/plain": [
       "(tensor([163.0000,   5.3478], dtype=torch.float64), tensor([3, 3]))"
      ]
     },
     "execution_count": 28,
     "metadata": {},
     "output_type": "execute_result"
    }
   ],
   "source": [
    "\"\"\"\n",
    "Exercise 2.5\n",
    "Use the torch.min() method to find out the index and height of the shortest U.S president.\n",
    "\"\"\"\n",
    "\n",
    "value, index = torch.min(heights_reshaped, dim=1)\n",
    "\n",
    "value, index"
   ]
  }
 ],
 "metadata": {
  "kernelspec": {
   "display_name": "venv",
   "language": "python",
   "name": "python3"
  },
  "language_info": {
   "codemirror_mode": {
    "name": "ipython",
    "version": 3
   },
   "file_extension": ".py",
   "mimetype": "text/x-python",
   "name": "python",
   "nbconvert_exporter": "python",
   "pygments_lexer": "ipython3",
   "version": "3.12.3"
  }
 },
 "nbformat": 4,
 "nbformat_minor": 2
}
